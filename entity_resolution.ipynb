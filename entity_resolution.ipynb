{
 "cells": [
  {
   "cell_type": "markdown",
   "metadata": {},
   "source": [
    "Import Required Libraries"
   ]
  },
  {
   "cell_type": "code",
   "execution_count": 6,
   "metadata": {},
   "outputs": [],
   "source": [
    "import pandas as pd\n",
    "import pandas as pd\n",
    "import numpy as np\n",
    "import re\n",
    "import recordlinkage\n",
    "import networkx as nx"
   ]
  },
  {
   "cell_type": "markdown",
   "metadata": {},
   "source": [
    "Load the Parquet File"
   ]
  },
  {
   "cell_type": "code",
   "execution_count": 7,
   "metadata": {},
   "outputs": [
    {
     "name": "stdout",
     "output_type": "stream",
     "text": [
      "Data loaded. Shape: (33446, 75)\n",
      "<class 'pandas.core.frame.DataFrame'>\n",
      "RangeIndex: 33446 entries, 0 to 33445\n",
      "Data columns (total 75 columns):\n",
      " #   Column                        Non-Null Count  Dtype \n",
      "---  ------                        --------------  ----- \n",
      " 0   company_name                  32617 non-null  object\n",
      " 1   company_legal_names           6890 non-null   object\n",
      " 2   company_commercial_names      28121 non-null  object\n",
      " 3   main_country_code             31415 non-null  object\n",
      " 4   main_country                  31415 non-null  object\n",
      " 5   main_region                   30112 non-null  object\n",
      " 6   main_city_district            5979 non-null   object\n",
      " 7   main_city                     29602 non-null  object\n",
      " 8   main_postcode                 23820 non-null  object\n",
      " 9   main_street                   19979 non-null  object\n",
      " 10  main_street_number            17034 non-null  object\n",
      " 11  main_latitude                 17031 non-null  object\n",
      " 12  main_longitude                17031 non-null  object\n",
      " 13  main_address_raw_text         27980 non-null  object\n",
      " 14  locations                     31415 non-null  object\n",
      " 15  num_locations                 19110 non-null  object\n",
      " 16  company_type                  19735 non-null  object\n",
      " 17  year_founded                  5027 non-null   object\n",
      " 18  lnk_year_founded              2142 non-null   object\n",
      " 19  short_description             18702 non-null  object\n",
      " 20  long_description              11731 non-null  object\n",
      " 21  business_tags                 9249 non-null   object\n",
      " 22  business_model                19798 non-null  object\n",
      " 23  product_type                  19798 non-null  object\n",
      " 24  naics_vertical                18263 non-null  object\n",
      " 25  naics_2022_primary_code       18048 non-null  object\n",
      " 26  naics_2022_primary_label      18048 non-null  object\n",
      " 27  naics_2022_secondary_codes    244 non-null    object\n",
      " 28  naics_2022_secondary_labels   244 non-null    object\n",
      " 29  main_business_category        19798 non-null  object\n",
      " 30  main_industry                 19798 non-null  object\n",
      " 31  main_sector                   19798 non-null  object\n",
      " 32  primary_phone                 22799 non-null  object\n",
      " 33  phone_numbers                 22799 non-null  object\n",
      " 34  primary_email                 6508 non-null   object\n",
      " 35  emails                        3316 non-null   object\n",
      " 36  other_emails                  578 non-null    object\n",
      " 37  website_url                   31893 non-null  object\n",
      " 38  website_domain                31893 non-null  object\n",
      " 39  website_tld                   31893 non-null  object\n",
      " 40  website_language_code         6104 non-null   object\n",
      " 41  facebook_url                  11282 non-null  object\n",
      " 42  twitter_url                   2755 non-null   object\n",
      " 43  instagram_url                 7014 non-null   object\n",
      " 44  linkedin_url                  10200 non-null  object\n",
      " 45  ios_app_url                   123 non-null    object\n",
      " 46  android_app_url               138 non-null    object\n",
      " 47  youtube_url                   1142 non-null   object\n",
      " 48  tiktok_url                    0 non-null      object\n",
      " 49  alexa_rank                    0 non-null      object\n",
      " 50  sics_codified_industry        5661 non-null   object\n",
      " 51  sics_codified_industry_code   5661 non-null   object\n",
      " 52  sics_codified_subsector       5661 non-null   object\n",
      " 53  sics_codified_subsector_code  5661 non-null   object\n",
      " 54  sics_codified_sector          5661 non-null   object\n",
      " 55  sics_codified_sector_code     5661 non-null   object\n",
      " 56  sic_codes                     18048 non-null  object\n",
      " 57  sic_labels                    18048 non-null  object\n",
      " 58  isic_v4_codes                 18048 non-null  object\n",
      " 59  isic_v4_labels                18048 non-null  object\n",
      " 60  nace_rev2_codes               18048 non-null  object\n",
      " 61  nace_rev2_labels              18048 non-null  object\n",
      " 62  created_at                    33403 non-null  object\n",
      " 63  last_updated_at               33403 non-null  object\n",
      " 64  website_number_of_pages       6151 non-null   object\n",
      " 65  generated_description         19468 non-null  object\n",
      " 66  generated_business_tags       19445 non-null  object\n",
      " 67  status                        33446 non-null  object\n",
      " 68  domains                       11592 non-null  object\n",
      " 69  all_domains                   11592 non-null  object\n",
      " 70  revenue                       7229 non-null   object\n",
      " 71  revenue_type                  7229 non-null   object\n",
      " 72  employee_count                8723 non-null   object\n",
      " 73  employee_count_type           8723 non-null   object\n",
      " 74  inbound_links_count           6151 non-null   object\n",
      "dtypes: object(75)\n",
      "memory usage: 19.1+ MB\n",
      "None\n"
     ]
    }
   ],
   "source": [
    "df = pd.read_parquet('veridion.snappy.parquet', engine='pyarrow')\n",
    "\n",
    "print(\"Data loaded. Shape:\", df.shape)\n",
    "print(df.info())"
   ]
  },
  {
   "cell_type": "markdown",
   "metadata": {},
   "source": [
    "Data Cleaning & Standardization"
   ]
  },
  {
   "cell_type": "code",
   "execution_count": 8,
   "metadata": {},
   "outputs": [
    {
     "name": "stdout",
     "output_type": "stream",
     "text": [
      "Sample cleaned company names:\n",
      "               company_name        clean_company_name\n",
      "0             Owens Liquors             owens liquors\n",
      "1              Club Tarneit              club tarneit\n",
      "2  AAA Auto Otrokovice Zlín  aaa auto otrokovice zlín\n",
      "3             Gisinger GmbH             gisinger gmbh\n",
      "4               Kasana Life               kasana life\n"
     ]
    }
   ],
   "source": [
    "def clean_text(text):\n",
    "    if pd.isnull(text):\n",
    "        return \"\"\n",
    "    text = text.lower().strip()\n",
    "    text = re.sub(r'[\\.,-\\/#!$%\\^&\\*;:{}=\\-_`~()]', '', text)\n",
    "    text = re.sub(r'\\s+', ' ', text)\n",
    "    return text\n",
    "\n",
    "# Clean company names.\n",
    "df['clean_company_name'] = df['company_name'].apply(clean_text)\n",
    "df['clean_company_legal_names'] = df['company_legal_names'].apply(clean_text)\n",
    "df['clean_company_commercial_names'] = df['company_commercial_names'].apply(clean_text)\n",
    "\n",
    "# Check a sample of cleaned data.\n",
    "print(\"Sample cleaned company names:\")\n",
    "print(df[['company_name', 'clean_company_name']].head())"
   ]
  },
  {
   "cell_type": "markdown",
   "metadata": {},
   "source": [
    "Exploratory Data Analysis (EDA)"
   ]
  },
  {
   "cell_type": "code",
   "execution_count": 9,
   "metadata": {},
   "outputs": [
    {
     "name": "stdout",
     "output_type": "stream",
     "text": [
      "Missing values in key columns:\n",
      "company_name                  829\n",
      "company_legal_names         26556\n",
      "company_commercial_names     5325\n",
      "dtype: int64\n"
     ]
    }
   ],
   "source": [
    "print(\"Missing values in key columns:\")\n",
    "print(df[['company_name', 'company_legal_names', 'company_commercial_names']].isnull().sum())"
   ]
  },
  {
   "cell_type": "markdown",
   "metadata": {},
   "source": [
    "Candidate Generation for Deduplication"
   ]
  },
  {
   "cell_type": "code",
   "execution_count": 11,
   "metadata": {},
   "outputs": [
    {
     "name": "stdout",
     "output_type": "stream",
     "text": [
      "Number of candidate pairs generated: 4360560\n"
     ]
    }
   ],
   "source": [
    "df['blocking_key'] = df['clean_company_name'].str[:2]\n",
    "\n",
    "indexer = recordlinkage.Index()\n",
    "indexer.block('blocking_key')\n",
    "candidate_links = indexer.index(df)\n",
    "print(\"Number of candidate pairs generated:\", len(candidate_links))"
   ]
  },
  {
   "cell_type": "code",
   "execution_count": 31,
   "metadata": {},
   "outputs": [
    {
     "name": "stdout",
     "output_type": "stream",
     "text": [
      "Comparison features (first few rows):\n",
      "       name  legal_name\n",
      "30 12   0.0         0.0\n",
      "31 9    0.0         0.0\n",
      "34 12   0.0         0.0\n",
      "   30   0.0         0.0\n",
      "36 29   0.0         0.0\n"
     ]
    }
   ],
   "source": [
    "compare = recordlinkage.Compare()\n",
    "compare.string('clean_company_name', 'clean_company_name', method='jarowinkler', threshold=0.85, label='name')\n",
    "compare.string('clean_company_legal_names', 'clean_company_legal_names', method='jarowinkler', threshold=0.85, label='legal_name')\n",
    "\n",
    "features = compare.compute(candidate_links, df)\n",
    "print(\"Comparison features (first few rows):\")\n",
    "print(features.head())"
   ]
  },
  {
   "cell_type": "markdown",
   "metadata": {},
   "source": [
    "Identify Duplicate Pairs"
   ]
  },
  {
   "cell_type": "code",
   "execution_count": 32,
   "metadata": {},
   "outputs": [
    {
     "name": "stdout",
     "output_type": "stream",
     "text": [
      "Number of duplicate pairs identified: 89762\n"
     ]
    }
   ],
   "source": [
    "features['total_score'] = features.sum(axis=1)\n",
    "duplicate_pairs = features[features['total_score'] >= 1.0]\n",
    "print(\"Number of duplicate pairs identified:\", len(duplicate_pairs))"
   ]
  },
  {
   "cell_type": "code",
   "execution_count": 41,
   "metadata": {},
   "outputs": [
    {
     "name": "stdout",
     "output_type": "stream",
     "text": [
      "After threshold adjustment, duplicate pairs identified: 62682\n"
     ]
    }
   ],
   "source": [
    "compare = recordlinkage.Compare()\n",
    "compare.string('clean_company_name', 'clean_company_name', method='jarowinkler', threshold=0.90, label='name')\n",
    "compare.string('clean_company_legal_names', 'clean_company_legal_names', method='jarowinkler', threshold=0.90, label='legal_name')\n",
    "\n",
    "features = compare.compute(candidate_links, df)\n",
    "features['total_score'] = features.sum(axis=1)\n",
    "duplicate_pairs = features[features['total_score'] >= 1.0]\n",
    "print(\"After threshold adjustment, duplicate pairs identified:\", len(duplicate_pairs))"
   ]
  },
  {
   "cell_type": "code",
   "execution_count": 42,
   "metadata": {},
   "outputs": [
    {
     "name": "stdout",
     "output_type": "stream",
     "text": [
      "Duplicate pairs after adding more attributes: 639795\n"
     ]
    }
   ],
   "source": [
    "# compare.exact('main_country', 'main_country', label='country')\n",
    "# compare.string('website_domain', 'website_domain', method='jarowinkler', threshold=0.90, label='website')\n",
    "# features = compare.compute(candidate_links, df)\n",
    "# features['total_score'] = features.sum(axis=1)\n",
    "# duplicate_pairs = features[features['total_score'] >= 1.0]\n",
    "# print(\"Duplicate pairs after adding more attributes:\", len(duplicate_pairs))"
   ]
  },
  {
   "cell_type": "markdown",
   "metadata": {},
   "source": [
    "Cluster Duplicate Records"
   ]
  },
  {
   "cell_type": "code",
   "execution_count": 43,
   "metadata": {},
   "outputs": [
    {
     "name": "stdout",
     "output_type": "stream",
     "text": [
      "Number of duplicate clusters identified: 2435\n"
     ]
    }
   ],
   "source": [
    "G = nx.Graph()\n",
    "G.add_edges_from(duplicate_pairs.index.tolist())\n",
    "clusters = list(nx.connected_components(G))\n",
    "print(\"Number of duplicate clusters identified:\", len(clusters))"
   ]
  },
  {
   "cell_type": "markdown",
   "metadata": {},
   "source": [
    "Assign Unique Company Identifiers"
   ]
  },
  {
   "cell_type": "code",
   "execution_count": 44,
   "metadata": {},
   "outputs": [
    {
     "name": "stdout",
     "output_type": "stream",
     "text": [
      "Unique company IDs assigned. Sample:\n",
      "                                        company_name  unique_company_id\n",
      "0                                      Owens Liquors                740\n",
      "1                                       Club Tarneit                232\n",
      "2                           AAA Auto Otrokovice Zlín                 49\n",
      "3                                      Gisinger GmbH                409\n",
      "4                                        Kasana Life                 66\n",
      "5                           BAM BROW & MAKEUP STUDIO                 69\n",
      "6                                            Tescoma                390\n",
      "7   Happyweddings | No.1 Matrimony Trivandrum Kerala                859\n",
      "8                              Dental Planet Manukau                246\n",
      "9                           Drake Design Photography                  0\n",
      "10                                          PIERMARQ                692\n",
      "11                             Fran Ortiz Retratista               1242\n",
      "12                                             HEBAN               1577\n",
      "13                              Woods Cross UT 84087                 28\n",
      "14                      CENTRO DE DIA QUIMEY CO Gral               1678\n",
      "15       Palestra di Arrampicata Augusto Pagliarusco                862\n",
      "16                                 L'atelier Creatik                688\n",
      "17                                        A Dog Wash                  6\n",
      "18                       SINA COVA Hotel Nikko Osaka                340\n",
      "19                                              None                 64\n"
     ]
    }
   ],
   "source": [
    "cluster_map = {}\n",
    "for cluster_id, cluster in enumerate(clusters):\n",
    "    for record_index in cluster:\n",
    "        cluster_map[record_index] = cluster_id\n",
    "\n",
    "unique_indices = set(df.index) - set(cluster_map.keys())\n",
    "for index in unique_indices:\n",
    "    cluster_map[index] = max(cluster_map.values(), default=-1) + 1\n",
    "\n",
    "df['unique_company_id'] = df.index.map(cluster_map)\n",
    "print(\"Unique company IDs assigned. Sample:\")\n",
    "print(df[['company_name', 'unique_company_id']].head(20))"
   ]
  },
  {
   "cell_type": "markdown",
   "metadata": {},
   "source": [
    "Save the Updated Dataset"
   ]
  },
  {
   "cell_type": "code",
   "execution_count": 45,
   "metadata": {},
   "outputs": [
    {
     "name": "stdout",
     "output_type": "stream",
     "text": [
      "Updated dataset saved as 'entity_resolution_updated.csv'.\n"
     ]
    }
   ],
   "source": [
    "df.to_csv('entity_resolution_updated.csv', index=False)\n",
    "print(\"Updated dataset saved as 'entity_resolution_updated.csv'.\")"
   ]
  },
  {
   "cell_type": "code",
   "execution_count": 46,
   "metadata": {},
   "outputs": [
    {
     "name": "stdout",
     "output_type": "stream",
     "text": [
      "Cluster size summary:\n",
      "count    3497.000000\n",
      "mean        9.564198\n",
      "std        26.443270\n",
      "min         1.000000\n",
      "25%         1.000000\n",
      "50%         5.000000\n",
      "75%         7.000000\n",
      "max       485.000000\n",
      "dtype: float64\n",
      "Number of clusters with duplicates: 2435\n"
     ]
    }
   ],
   "source": [
    "# Analyze cluster sizes\n",
    "cluster_sizes = df.groupby('unique_company_id').size()\n",
    "print(\"Cluster size summary:\")\n",
    "print(cluster_sizes.describe())\n",
    "\n",
    "# Identify clusters with more than one record (duplicates)\n",
    "duplicate_clusters = cluster_sizes[cluster_sizes > 1]\n",
    "print(\"Number of clusters with duplicates:\", len(duplicate_clusters))"
   ]
  },
  {
   "cell_type": "code",
   "execution_count": 47,
   "metadata": {},
   "outputs": [
    {
     "name": "stdout",
     "output_type": "stream",
     "text": [
      "Cluster ID: 2112\n",
      "          company_name clean_company_name  \\\n",
      "19706  Slavonska Burza    slavonska burza   \n",
      "20246  Slavonska Burza    slavonska burza   \n",
      "24197  Slavonska Burza    slavonska burza   \n",
      "25679  Slavonska Burza    slavonska burza   \n",
      "\n",
      "                                     company_legal_names  \n",
      "19706  Agro-Soft d.o.o. | Luka Tranzit Osijek d.o.o. ...  \n",
      "20246                                               None  \n",
      "24197                                     IT Jedan d.o.o  \n",
      "25679                                               None  \n",
      "----------------------------------------\n",
      "Cluster ID: 973\n",
      "                                      company_name  \\\n",
      "2958   SynchroTech Facility Maintenance Management   \n",
      "6388      Synchro Technical Services LLC Dubai UAE   \n",
      "10865                            Synchro Technical   \n",
      "26759                            Synchro Technical   \n",
      "29262                   Synchro Technical Services   \n",
      "\n",
      "                                clean_company_name  \\\n",
      "2958   synchrotech facility maintenance management   \n",
      "6388      synchro technical services llc dubai uae   \n",
      "10865                            synchro technical   \n",
      "26759                            synchro technical   \n",
      "29262                   synchro technical services   \n",
      "\n",
      "                   company_legal_names  \n",
      "2958                              None  \n",
      "6388                              None  \n",
      "10865                             None  \n",
      "26759  Synchro Technical Services LLC.  \n",
      "29262                             None  \n",
      "----------------------------------------\n",
      "Cluster ID: 1506\n",
      "                        company_name             clean_company_name  \\\n",
      "3175                          EDUKRE                         edukre   \n",
      "10914                         EDUKRE                         edukre   \n",
      "14996                         EDUKRE                         edukre   \n",
      "25879                         EDUKRE                         edukre   \n",
      "31566  EDUKRE Matrix Training Center  edukre matrix training center   \n",
      "\n",
      "      company_legal_names  \n",
      "3175                 None  \n",
      "10914                None  \n",
      "14996                None  \n",
      "25879                None  \n",
      "31566                None  \n",
      "----------------------------------------\n",
      "Cluster ID: 979\n",
      "                          company_name               clean_company_name  \\\n",
      "5472   MELHAM CONSTRUCTION CORPORATION  melham construction corporation   \n",
      "6424   MELHAM CONSTRUCTION CORPORATION  melham construction corporation   \n",
      "14404  Melham Construction Corporation  melham construction corporation   \n",
      "23459  Melham Construction Corporation  melham construction corporation   \n",
      "29351              MELHAM CONSTRUCTION              melham construction   \n",
      "\n",
      "                   company_legal_names  \n",
      "5472   MELHAM CONSTRUCTION CORPORATION  \n",
      "6424   MELHAM CONSTRUCTION CORPORATION  \n",
      "14404  Melham Construction Corporation  \n",
      "23459  Melham Construction Corporation  \n",
      "29351  MELHAM CONSTRUCTION CORPORATION  \n",
      "----------------------------------------\n",
      "Cluster ID: 931\n",
      "                                 company_name  \\\n",
      "5567                            KALMER d.o.o.   \n",
      "6090   Kalmer d. o. o. limited responsibility   \n",
      "18641                           KALMER d.o.o.   \n",
      "26635                           KALMER d.o.o.   \n",
      "31935                             Kalmer doo.   \n",
      "\n",
      "                        clean_company_name      company_legal_names  \n",
      "5567                            kalmer doo            KALMER d.o.o.  \n",
      "6090   kalmer d o o limited responsibility  Kalmer d. o. o. limited  \n",
      "18641                           kalmer doo            KALMER d.o.o.  \n",
      "26635                           kalmer doo            KALMER d.o.o.  \n",
      "31935                           kalmer doo              Kalmer doo.  \n",
      "----------------------------------------\n"
     ]
    }
   ],
   "source": [
    "# Inspect a few sample clusters with duplicates\n",
    "sample_cluster_ids = duplicate_clusters.sample(5, random_state=42).index\n",
    "for cluster_id in sample_cluster_ids:\n",
    "    print(\"Cluster ID:\", cluster_id)\n",
    "    print(df[df['unique_company_id'] == cluster_id][['company_name', 'clean_company_name', 'company_legal_names']])\n",
    "    print(\"-\" * 40)"
   ]
  },
  {
   "cell_type": "code",
   "execution_count": 48,
   "metadata": {},
   "outputs": [
    {
     "name": "stdout",
     "output_type": "stream",
     "text": [
      "Cluster size summary:\n",
      "count    3497.000000\n",
      "mean        9.564198\n",
      "std        26.443270\n",
      "min         1.000000\n",
      "25%         1.000000\n",
      "50%         5.000000\n",
      "75%         7.000000\n",
      "max       485.000000\n",
      "dtype: float64\n"
     ]
    },
    {
     "data": {
      "image/png": "[encoded data removed]",
      "text/plain": [
       "<Figure size 1000x600 with 1 Axes>"
      ]
     },
     "metadata": {},
     "output_type": "display_data"
    }
   ],
   "source": [
    "import matplotlib.pyplot as plt\n",
    "cluster_sizes = df.groupby('unique_company_id').size()\n",
    "\n",
    "print(\"Cluster size summary:\")\n",
    "print(cluster_sizes.describe())\n",
    "\n",
    "plt.figure(figsize=(10, 6))\n",
    "plt.hist(cluster_sizes, bins=50, log=True, edgecolor='black')\n",
    "plt.title(\"Distribution of Cluster Sizes\")\n",
    "plt.xlabel(\"Number of Records in Cluster\")\n",
    "plt.ylabel(\"Frequency (log scale)\")\n",
    "plt.show()"
   ]
  },
  {
   "cell_type": "code",
   "execution_count": 50,
   "metadata": {},
   "outputs": [
    {
     "name": "stdout",
     "output_type": "stream",
     "text": [
      "Sample canonical records by most used company name:\n",
      "          company_name  unique_company_id\n",
      "0  Dream Home Mortgage                  0\n",
      "1  Headway East London                  1\n",
      "2         Presto Pasta                  2\n",
      "3      Ultra Petroleum                  3\n",
      "4  Fairgrounds RV Park                  4\n",
      "Canonical records saved as 'entity_resolution_canonical_mode.csv'.\n"
     ]
    },
    {
     "name": "stderr",
     "output_type": "stream",
     "text": [
      "C:\\Users\\theot\\AppData\\Local\\Temp\\ipykernel_21808\\1023190018.py:14: DeprecationWarning: DataFrameGroupBy.apply operated on the grouping columns. This behavior is deprecated, and in a future version of pandas the grouping columns will be excluded from the operation. Either pass `include_groups=False` to exclude the groupings or explicitly select the grouping columns after groupby to silence this warning.\n",
      "  canonical_records = df.groupby('unique_company_id').apply(select_canonical_by_mode)\n"
     ]
    }
   ],
   "source": [
    "def select_canonical_by_mode(records):\n",
    "\n",
    "    mode_series = records['company_name'].mode()\n",
    "    if len(mode_series) == 0:\n",
    "        return records.iloc[0]\n",
    "    else:\n",
    "        common_name = mode_series.iloc[0]\n",
    "\n",
    "    candidates = records[records['company_name'] == common_name]\n",
    "    if candidates.empty:\n",
    "        return records.iloc[0]\n",
    "    return candidates.iloc[0]\n",
    "\n",
    "canonical_records = df.groupby('unique_company_id').apply(select_canonical_by_mode)\n",
    "canonical_records = canonical_records.reset_index(drop=True)\n",
    "\n",
    "print(\"Sample canonical records by most used company name:\")\n",
    "print(canonical_records[['company_name', 'unique_company_id']].head())\n",
    "\n",
    "canonical_records.to_csv('entity_resolution_canonical_mode.csv', index=False)\n",
    "print(\"Canonical records saved as 'entity_resolution_canonical_mode.csv'.\")"
   ]
  },
  {
   "cell_type": "code",
   "execution_count": 51,
   "metadata": {},
   "outputs": [
    {
     "name": "stdout",
     "output_type": "stream",
     "text": [
      "Cluster size summary:\n",
      "count    3497.000000\n",
      "mean        9.564198\n",
      "std        26.443270\n",
      "min         1.000000\n",
      "25%         1.000000\n",
      "50%         5.000000\n",
      "75%         7.000000\n",
      "max       485.000000\n",
      "dtype: float64\n"
     ]
    },
    {
     "data": {
      "image/png": "[encoded data removed]",
      "text/plain": [
       "<Figure size 1000x600 with 1 Axes>"
      ]
     },
     "metadata": {},
     "output_type": "display_data"
    },
    {
     "name": "stdout",
     "output_type": "stream",
     "text": [
      "Unique clusters (single record): 1062\n",
      "Duplicate clusters (multiple records): 2435\n"
     ]
    },
    {
     "name": "stderr",
     "output_type": "stream",
     "text": [
      "C:\\Users\\theot\\AppData\\Local\\Temp\\ipykernel_21808\\4146860418.py:22: FutureWarning: \n",
      "\n",
      "Passing `palette` without assigning `hue` is deprecated and will be removed in v0.14.0. Assign the `y` variable to `hue` and set `legend=False` for the same effect.\n",
      "\n",
      "  sns.barplot(x=canonical_country_counts.values, y=canonical_country_counts.index, palette='viridis')\n"
     ]
    },
    {
     "data": {
      "image/png": "[encoded data removed]",
      "text/plain": [
       "<Figure size 1200x600 with 1 Axes>"
      ]
     },
     "metadata": {},
     "output_type": "display_data"
    },
    {
     "data": {
      "image/png": "[encoded data removed]",
      "text/plain": [
       "<Figure size 1000x600 with 1 Axes>"
      ]
     },
     "metadata": {},
     "output_type": "display_data"
    },
    {
     "name": "stdout",
     "output_type": "stream",
     "text": [
      "Top 10 columns with missing values:\n",
      "tiktok_url                     33446\n",
      "alexa_rank                     33446\n",
      "ios_app_url                    33323\n",
      "android_app_url                33308\n",
      "naics_2022_secondary_codes     33202\n",
      "naics_2022_secondary_labels    33202\n",
      "other_emails                   32868\n",
      "youtube_url                    32304\n",
      "lnk_year_founded               31304\n",
      "twitter_url                    30691\n",
      "dtype: int64\n"
     ]
    }
   ],
   "source": [
    "\n",
    "import seaborn as sns\n",
    "\n",
    "cluster_sizes = df.groupby('unique_company_id').size()\n",
    "print(\"Cluster size summary:\")\n",
    "print(cluster_sizes.describe())\n",
    "\n",
    "plt.figure(figsize=(10, 6))\n",
    "plt.hist(cluster_sizes, bins=50, log=True, edgecolor='black')\n",
    "plt.title(\"Distribution of Cluster Sizes\")\n",
    "plt.xlabel(\"Number of Records in Cluster\")\n",
    "plt.ylabel(\"Frequency (log scale)\")\n",
    "plt.show()\n",
    "\n",
    "unique_clusters = (cluster_sizes == 1).sum()\n",
    "duplicate_clusters = (cluster_sizes > 1).sum()\n",
    "print(f\"Unique clusters (single record): {unique_clusters}\")\n",
    "print(f\"Duplicate clusters (multiple records): {duplicate_clusters}\")\n",
    "\n",
    "\n",
    "plt.figure(figsize=(12, 6))\n",
    "canonical_country_counts = canonical_records['main_country'].dropna().value_counts().head(20)\n",
    "sns.barplot(x=canonical_country_counts.values, y=canonical_country_counts.index, palette='viridis')\n",
    "plt.title(\"Top 20 Countries by Number of Canonical Records\")\n",
    "plt.xlabel(\"Number of Canonical Records\")\n",
    "plt.ylabel(\"Main Country\")\n",
    "plt.show()\n",
    "\n",
    "\n",
    "plt.figure(figsize=(10, 6))\n",
    "plt.hist(features['total_score'], bins=50, color='lightgreen', edgecolor='black')\n",
    "plt.title(\"Distribution of Total Similarity Scores\")\n",
    "plt.xlabel(\"Total Score\")\n",
    "plt.ylabel(\"Frequency\")\n",
    "plt.show()\n",
    "\n",
    "missing_counts = df.isnull().sum().sort_values(ascending=False)\n",
    "print(\"Top 10 columns with missing values:\")\n",
    "print(missing_counts.head(10))"
   ]
  },
  {
   "cell_type": "markdown",
   "metadata": {},
   "source": []
  }
 ],
 "metadata": {
  "kernelspec": {
   "display_name": "venv",
   "language": "python",
   "name": "python3"
  },
  "language_info": {
   "codemirror_mode": {
    "name": "ipython",
    "version": 3
   },
   "file_extension": ".py",
   "mimetype": "text/x-python",
   "name": "python",
   "nbconvert_exporter": "python",
   "pygments_lexer": "ipython3",
   "version": "3.12.3"
  }
 },
 "nbformat": 4,
 "nbformat_minor": 2
}
